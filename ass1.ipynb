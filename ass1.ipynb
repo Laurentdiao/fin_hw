{
  "cells": [
    {
      "cell_type": "code",
      "execution_count": null,
      "id": "28658fb4-170a-4bf0-8ff5-5ab7878aa8a5",
      "metadata": {
        "id": "28658fb4-170a-4bf0-8ff5-5ab7878aa8a5",
        "outputId": "32107b79-9842-43b2-814c-d5a40c2158e5",
        "colab": {
          "base_uri": "https://localhost:8080/",
          "height": 292
        }
      },
      "outputs": [
        {
          "output_type": "stream",
          "name": "stderr",
          "text": [
            "Warning message in file(file, \"rt\"):\n",
            "“cannot open file '/content/m-dec19.txt': No such file or directory”\n"
          ]
        },
        {
          "output_type": "error",
          "ename": "ERROR",
          "evalue": "Error in file(file, \"rt\"): cannot open the connection\n",
          "traceback": [
            "Error in file(file, \"rt\"): cannot open the connection\nTraceback:\n",
            "1. file(file, \"rt\")",
            "2. .handleSimpleError(function (cnd) \n . {\n .     watcher$capture_plot_and_output()\n .     cnd <- sanitize_call(cnd)\n .     watcher$push(cnd)\n .     switch(on_error, continue = invokeRestart(\"eval_continue\"), \n .         stop = invokeRestart(\"eval_stop\"), error = invokeRestart(\"eval_error\", \n .             cnd))\n . }, \"cannot open the connection\", base::quote(file(file, \"rt\")))"
          ]
        }
      ],
      "source": [
        "dec_data <- read.table(\"/content/m-dec19.txt\", header = TRUE)\n",
        "cpi_data <- read.table(\"/content/m-cpileng.txt\", header = FALSE)\n",
        "gnp_data<- read.table(\"/content/q-gnprate.txt\", header = FALSE)"
      ]
    },
    {
      "cell_type": "code",
      "execution_count": null,
      "id": "c80c61f7-6d92-4002-a91d-e2b5e56060d4",
      "metadata": {
        "id": "c80c61f7-6d92-4002-a91d-e2b5e56060d4",
        "outputId": "f3826114-213b-4b74-f38d-22e35c10826a",
        "colab": {
          "base_uri": "https://localhost:8080/"
        }
      },
      "outputs": [
        {
          "output_type": "stream",
          "name": "stdout",
          "text": [
            "\n",
            "Autocorrelations of series ‘dec_data[, 2]’, by lag\n",
            "\n",
            "     0      1      2      3      4      5      6      7      8      9     10 \n",
            " 1.000  0.225 -0.002 -0.076 -0.030 -0.022 -0.051 -0.050 -0.085 -0.079 -0.004 \n",
            "    11     12     13     14     15     16     17     18     19     20     21 \n",
            " 0.076  0.268  0.018 -0.052 -0.092 -0.024 -0.042 -0.091 -0.080 -0.051 -0.058 \n",
            "    22     23     24 \n",
            "-0.049  0.053  0.247 \n",
            "\n",
            "Partial autocorrelations of series ‘dec_data[, 2]’, by lag\n",
            "\n",
            "     1      2      3      4      5      6      7      8      9     10     11 \n",
            " 0.225 -0.055 -0.067  0.003 -0.020 -0.050 -0.032 -0.075 -0.056  0.016  0.060 \n",
            "    12     13     14     15     16     17     18     19     20     21     22 \n",
            " 0.240 -0.106 -0.029 -0.057 -0.004 -0.047 -0.070 -0.035 -0.001 -0.048 -0.061 \n",
            "    23     24 \n",
            " 0.037  0.168 \n"
          ]
        }
      ],
      "source": [
        "acf_result <- acf(dec_data[,2], lag.max = 24, plot = FALSE)\n",
        "pacf_result <- pacf(dec_data[,2], lag.max = 24, plot = FALSE)\n",
        "print(acf_result)\n",
        "print(pacf_result)"
      ]
    },
    {
      "cell_type": "code",
      "source": [
        "lb_test <- Box.test(dec_data[,2], lag = 12, type = \"Ljung-Box\")\n",
        "\n",
        "print(lb_test)"
      ],
      "metadata": {
        "colab": {
          "base_uri": "https://localhost:8080/"
        },
        "id": "sSMPkwgP8kXZ",
        "outputId": "760d128e-1bab-48f0-c314-29b88f3acebf"
      },
      "id": "sSMPkwgP8kXZ",
      "execution_count": null,
      "outputs": [
        {
          "output_type": "stream",
          "name": "stdout",
          "text": [
            "\n",
            "\tBox-Ljung test\n",
            "\n",
            "data:  dec_data[, 2]\n",
            "X-squared = 69.652, df = 12, p-value = 3.72e-10\n",
            "\n"
          ]
        }
      ]
    },
    {
      "cell_type": "code",
      "execution_count": null,
      "id": "3ca025de-62f1-4526-bff6-f1bca6da3230",
      "metadata": {
        "id": "3ca025de-62f1-4526-bff6-f1bca6da3230",
        "outputId": "1bbb9032-5fb7-40f5-fd8e-d9a98f07f635",
        "colab": {
          "base_uri": "https://localhost:8080/"
        }
      },
      "outputs": [
        {
          "output_type": "stream",
          "name": "stdout",
          "text": [
            "[1] 69.65238\n",
            "[1] 21.02607\n",
            "[1] 18.54935\n",
            "[1] 3.720226e-10\n"
          ]
        }
      ],
      "source": [
        "Q_12 = nrow(dec_data)*(nrow(dec_data)+2)\n",
        "tmp = 0\n",
        "for (i in (1:12)){\n",
        "    tmp = tmp + (acf_result$acf[i+1])^2 / (nrow(dec_data) - i)\n",
        "}\n",
        "Q_12 = Q_12 * tmp\n",
        "print(Q_12)\n",
        "critical_value1 <- qchisq(0.95, 12)\n",
        "print(critical_value1)\n",
        "critical_value2 <- qchisq(0.9, 12)\n",
        "print(critical_value2)\n",
        "p_value <- 1 - pchisq(Q_12, 12)\n",
        "print(p_value)"
      ]
    },
    {
      "cell_type": "code",
      "execution_count": null,
      "id": "155ab3ac-ab3b-4cca-9a09-37f66453c4b7",
      "metadata": {
        "id": "155ab3ac-ab3b-4cca-9a09-37f66453c4b7",
        "colab": {
          "base_uri": "https://localhost:8080/"
        },
        "outputId": "85c3eb0b-bde4-44f9-d01d-ff524f2223bc"
      },
      "outputs": [
        {
          "output_type": "stream",
          "name": "stdout",
          "text": [
            "\n",
            "Autocorrelations of series ‘dec_data[, 3]’, by lag\n",
            "\n",
            "     0      1      2      3      4      5      6      7      8      9     10 \n",
            " 1.000  0.137 -0.062 -0.033 -0.059 -0.009  0.003 -0.011 -0.078 -0.027  0.043 \n",
            "    11     12 \n",
            "-0.036  0.005 \n"
          ]
        }
      ],
      "source": [
        "acf_result <- acf(dec_data[,3], lag.max = 12, plot = FALSE)\n",
        "print(acf_result)"
      ]
    },
    {
      "cell_type": "code",
      "source": [
        "lb_test <- Box.test(dec_data[,3], lag = 12, type = \"Ljung-Box\")\n",
        "\n",
        "print(lb_test)"
      ],
      "metadata": {
        "colab": {
          "base_uri": "https://localhost:8080/"
        },
        "id": "TTr44FpD_0c7",
        "outputId": "20283130-6270-49cf-8139-941b65b1ee40"
      },
      "id": "TTr44FpD_0c7",
      "execution_count": null,
      "outputs": [
        {
          "output_type": "stream",
          "name": "stdout",
          "text": [
            "\n",
            "\tBox-Ljung test\n",
            "\n",
            "data:  dec_data[, 3]\n",
            "X-squared = 16.812, df = 12, p-value = 0.1568\n",
            "\n"
          ]
        }
      ]
    },
    {
      "cell_type": "code",
      "source": [
        "Q_12 = nrow(dec_data)*(nrow(dec_data)+2)\n",
        "tmp = 0\n",
        "for (i in (1:12)){\n",
        "    tmp = tmp + (acf_result$acf[i+1])^2 / (nrow(dec_data) - i)\n",
        "}\n",
        "Q_12 = Q_12 * tmp\n",
        "print(Q_12)\n",
        "critical_value1 <- qchisq(0.95, 12)\n",
        "print(critical_value1)\n",
        "critical_value2 <- qchisq(0.9, 12)\n",
        "print(critical_value2)\n",
        "critical_value3 <- qchisq(0.8431749, 12)\n",
        "print(critical_value3)\n",
        "p_value <- 1 - pchisq(Q_12, 12)\n",
        "print(p_value)"
      ],
      "metadata": {
        "colab": {
          "base_uri": "https://localhost:8080/"
        },
        "id": "LBDTd0Th_7Kg",
        "outputId": "2c7b7c06-4df8-4694-d900-128743dab5d5"
      },
      "id": "LBDTd0Th_7Kg",
      "execution_count": null,
      "outputs": [
        {
          "output_type": "stream",
          "name": "stdout",
          "text": [
            "[1] 16.81154\n",
            "[1] 21.02607\n",
            "[1] 18.54935\n",
            "[1] 16.81154\n",
            "[1] 0.1568251\n"
          ]
        }
      ]
    },
    {
      "cell_type": "code",
      "source": [
        "pgr_cpi = cpi_data[,4]\n",
        "pgr_cpi = log(pgr_cpi)\n",
        "perc_cpi = 100*diff(pgr_cpi)\n",
        "print(length(pgr_cpi))\n",
        "print(perc_cpi[1])"
      ],
      "metadata": {
        "colab": {
          "base_uri": "https://localhost:8080/"
        },
        "id": "ts6rxPWeAJcI",
        "outputId": "63b9dcb1-3100-4ec7-ffae-7d5426ce27a1"
      },
      "id": "ts6rxPWeAJcI",
      "execution_count": null,
      "outputs": [
        {
          "output_type": "stream",
          "name": "stdout",
          "text": [
            "[1] 602\n",
            "[1] 0.3514942\n"
          ]
        }
      ]
    },
    {
      "cell_type": "code",
      "source": [
        "acf_result <- acf(perc_cpi, lag.max = 12, plot = FALSE)\n",
        "pacf_result <- pacf(perc_cpi, lag.max = 12, plot = FALSE)\n",
        "print(acf_result)\n",
        "print(pacf_result)"
      ],
      "metadata": {
        "colab": {
          "base_uri": "https://localhost:8080/"
        },
        "id": "CFQgwI-VeDIC",
        "outputId": "bbac6de6-2c6b-4816-a82a-80401dbcca3e"
      },
      "id": "CFQgwI-VeDIC",
      "execution_count": null,
      "outputs": [
        {
          "output_type": "stream",
          "name": "stdout",
          "text": [
            "\n",
            "Autocorrelations of series ‘perc_cpi’, by lag\n",
            "\n",
            "    0     1     2     3     4     5     6     7     8     9    10    11    12 \n",
            "1.000 0.583 0.596 0.558 0.501 0.566 0.551 0.530 0.555 0.546 0.564 0.498 0.503 \n",
            "\n",
            "Partial autocorrelations of series ‘perc_cpi’, by lag\n",
            "\n",
            "     1      2      3      4      5      6      7      8      9     10     11 \n",
            " 0.583  0.388  0.212  0.070  0.222  0.159  0.070  0.118  0.114  0.121 -0.048 \n",
            "    12 \n",
            " 0.012 \n"
          ]
        }
      ]
    },
    {
      "cell_type": "code",
      "source": [
        "lb_test <- Box.test(perc_cpi, lag = 12, type = \"Ljung-Box\")\n",
        "\n",
        "print(lb_test)"
      ],
      "metadata": {
        "colab": {
          "base_uri": "https://localhost:8080/"
        },
        "id": "60dVYOByevi5",
        "outputId": "0dffd369-4e35-47ad-be44-16ea446f92ad"
      },
      "id": "60dVYOByevi5",
      "execution_count": null,
      "outputs": [
        {
          "output_type": "stream",
          "name": "stdout",
          "text": [
            "\n",
            "\tBox-Ljung test\n",
            "\n",
            "data:  perc_cpi\n",
            "X-squared = 2186.6, df = 12, p-value < 2.2e-16\n",
            "\n"
          ]
        }
      ]
    },
    {
      "cell_type": "code",
      "source": [
        "zt = diff(perc_cpi)\n",
        "acf_result <- acf(zt, lag.max = 12, plot = FALSE)\n",
        "print(acf_result)"
      ],
      "metadata": {
        "colab": {
          "base_uri": "https://localhost:8080/"
        },
        "id": "KqoMt1skfqpU",
        "outputId": "2f8742ab-903e-43d3-f495-d22e1f468497"
      },
      "id": "KqoMt1skfqpU",
      "execution_count": null,
      "outputs": [
        {
          "output_type": "stream",
          "name": "stdout",
          "text": [
            "\n",
            "Autocorrelations of series ‘zt’, by lag\n",
            "\n",
            "     0      1      2      3      4      5      6      7      8      9     10 \n",
            " 1.000 -0.516  0.062  0.022 -0.147  0.096  0.008 -0.056  0.042 -0.033  0.100 \n",
            "    11     12 \n",
            "-0.086  0.042 \n"
          ]
        }
      ]
    },
    {
      "cell_type": "code",
      "source": [
        "fit <- arima(zt, order = c(1, 0, 5))\n",
        "\n",
        "summary(fit)"
      ],
      "metadata": {
        "colab": {
          "base_uri": "https://localhost:8080/",
          "height": 272
        },
        "id": "CUh-N8qygrMJ",
        "outputId": "5d962923-ff11-40b2-bb23-422a3f903e0c"
      },
      "id": "CUh-N8qygrMJ",
      "execution_count": null,
      "outputs": [
        {
          "output_type": "display_data",
          "data": {
            "text/plain": [
              "          Length Class  Mode     \n",
              "coef        7    -none- numeric  \n",
              "sigma2      1    -none- numeric  \n",
              "var.coef   49    -none- numeric  \n",
              "mask        7    -none- logical  \n",
              "loglik      1    -none- numeric  \n",
              "aic         1    -none- numeric  \n",
              "arma        7    -none- numeric  \n",
              "residuals 600    ts     numeric  \n",
              "call        3    -none- call     \n",
              "series      1    -none- character\n",
              "code        1    -none- numeric  \n",
              "n.cond      1    -none- numeric  \n",
              "nobs        1    -none- numeric  \n",
              "model      10    -none- list     "
            ]
          },
          "metadata": {}
        }
      ]
    },
    {
      "cell_type": "code",
      "source": [
        "fit_ar3 <- arima(gnp_data[,1], order = c(3, 0, 0))\n",
        "\n",
        "summary(fit_ar3)"
      ],
      "metadata": {
        "colab": {
          "base_uri": "https://localhost:8080/",
          "height": 289
        },
        "id": "kuDpv0duisyX",
        "outputId": "5ffe77fb-189e-4ff3-ae8b-e529c459d6d1"
      },
      "id": "kuDpv0duisyX",
      "execution_count": null,
      "outputs": [
        {
          "output_type": "display_data",
          "data": {
            "text/plain": [
              "\n",
              "Call:\n",
              "arima(x = gnp_data[, 1], order = c(3, 0, 0))\n",
              "\n",
              "Coefficients:\n",
              "         ar1     ar2      ar3  intercept\n",
              "      0.4172  0.2003  -0.1648     0.0168\n",
              "s.e.  0.0636  0.0679   0.0642     0.0011\n",
              "\n",
              "sigma^2 estimated as 9.313e-05:  log likelihood = 769.83,  aic = -1529.67\n",
              "\n",
              "Training set error measures:\n",
              "                       ME        RMSE         MAE       MPE     MAPE      MASE\n",
              "Training set 2.040044e-05 0.009650591 0.006997633 -13.07816 79.99305 0.8091995\n",
              "                     ACF1\n",
              "Training set -0.008342561"
            ]
          },
          "metadata": {}
        }
      ]
    },
    {
      "cell_type": "code",
      "source": [
        "library(forecast)\n",
        "forecasts <- forecast(fit_ar3, h = 4)\n",
        "\n",
        "print(forecasts)\n",
        "\n",
        "predicted_values <- forecasts$mean\n",
        "standard_errors <- forecasts$se\n",
        "\n",
        "print(predicted_values)\n",
        "print(standard_errors)\n",
        "\n",
        "for (i in 1:4) {\n",
        "  if (is.na(standard_errors[i])) {\n",
        "    cat(sprintf(\"Step %d: Forecast = %.7f, Standard Error = NA\\n\",\n",
        "                i, as.numeric(predicted_values[i])))\n",
        "  } else {\n",
        "    cat(sprintf(\"Step %d: Forecast = %.7f, Standard Error = %.2f\\n\",\n",
        "                i, as.numeric(predicted_values[i]), as.numeric(standard_errors[i])))\n",
        "  }\n",
        "}"
      ],
      "metadata": {
        "colab": {
          "base_uri": "https://localhost:8080/"
        },
        "id": "F3NRjTDRkw1M",
        "outputId": "2f4e1566-3748-466e-b24e-e442fdf7f89d"
      },
      "id": "F3NRjTDRkw1M",
      "execution_count": null,
      "outputs": [
        {
          "output_type": "stream",
          "name": "stdout",
          "text": [
            "商业周期的平均周期: Inf \n",
            "    Point Forecast       Lo 80      Hi 80        Lo 95      Hi 95\n",
            "240     0.01400900 0.001641268 0.02637673 -0.004905813 0.03292381\n",
            "241     0.01612416 0.002723136 0.02952519 -0.004370939 0.03661927\n",
            "242     0.01666423 0.002486019 0.03084243 -0.005019470 0.03834792\n",
            "243     0.01709263 0.002884194 0.03130106 -0.004637297 0.03882255\n",
            "Time Series:\n",
            "Start = 240 \n",
            "End = 243 \n",
            "Frequency = 1 \n",
            "[1] 0.01400900 0.01612416 0.01666423 0.01709263\n",
            "[1] \"gnp_data[, 1]\"\n"
          ]
        },
        {
          "output_type": "stream",
          "name": "stderr",
          "text": [
            "Warning message in sprintf(\"Step %d: Forecast = %.7f, Standard Error = %.2f\\n\", :\n",
            "“NAs introduced by coercion”\n"
          ]
        },
        {
          "output_type": "stream",
          "name": "stdout",
          "text": [
            "Step 1: Forecast = 0.0140090, Standard Error = NA\n",
            "Step 2: Forecast = 0.0161242, Standard Error = NA\n",
            "Step 3: Forecast = 0.0166642, Standard Error = NA\n",
            "Step 4: Forecast = 0.0170926, Standard Error = NA\n"
          ]
        }
      ]
    },
    {
      "cell_type": "code",
      "source": [
        "fit_ma <- arima(dec_data[,3], order = c(0, 0, 1))\n",
        "\n",
        "summary(fit_ma)"
      ],
      "metadata": {
        "colab": {
          "base_uri": "https://localhost:8080/",
          "height": 289
        },
        "id": "wwr6c3-enMGG",
        "outputId": "4b9bf75b-c451-4bed-ab3f-ab441ae33adf"
      },
      "id": "wwr6c3-enMGG",
      "execution_count": null,
      "outputs": [
        {
          "output_type": "display_data",
          "data": {
            "text/plain": [
              "\n",
              "Call:\n",
              "arima(x = dec_data[, 3], order = c(0, 0, 1))\n",
              "\n",
              "Coefficients:\n",
              "         ma1  intercept\n",
              "      0.1593     0.0109\n",
              "s.e.  0.0499     0.0029\n",
              "\n",
              "sigma^2 estimated as 0.0027:  log likelihood = 683.03,  aic = -1360.07\n",
              "\n",
              "Training set error measures:\n",
              "                       ME       RMSE        MAE      MPE     MAPE      MASE\n",
              "Training set 2.290569e-05 0.05195749 0.03978375 -280.807 808.6392 0.7566435\n",
              "                     ACF1\n",
              "Training set -0.009978982"
            ]
          },
          "metadata": {}
        }
      ]
    },
    {
      "cell_type": "code",
      "source": [
        "residuals <- residuals(fit_ma)\n",
        "Box.test(residuals, type = \"Ljung-Box\")"
      ],
      "metadata": {
        "colab": {
          "base_uri": "https://localhost:8080/",
          "height": 102
        },
        "id": "wRDYGkEkoN1o",
        "outputId": "4a6512c7-3dd6-4b46-ddf4-58beea28145a"
      },
      "id": "wRDYGkEkoN1o",
      "execution_count": null,
      "outputs": [
        {
          "output_type": "display_data",
          "data": {
            "text/plain": [
              "\n",
              "\tBox-Ljung test\n",
              "\n",
              "data:  residuals\n",
              "X-squared = 0.044513, df = 1, p-value = 0.8329\n"
            ]
          },
          "metadata": {}
        }
      ]
    },
    {
      "cell_type": "code",
      "source": [
        "forecasts <- forecast(fit_ma, h = 4)\n",
        "\n",
        "print(forecasts)"
      ],
      "metadata": {
        "colab": {
          "base_uri": "https://localhost:8080/"
        },
        "id": "RL6zkPkKn_ds",
        "outputId": "63fb84bf-b659-4e43-d500-effef14650ad"
      },
      "id": "RL6zkPkKn_ds",
      "execution_count": null,
      "outputs": [
        {
          "output_type": "stream",
          "name": "stdout",
          "text": [
            "    Point Forecast       Lo 80      Hi 80       Lo 95     Hi 95\n",
            "445    0.009037387 -0.05754881 0.07562359 -0.09279742 0.1108722\n",
            "446    0.010909688 -0.05651648 0.07833586 -0.09220974 0.1140291\n",
            "447    0.010909688 -0.05651648 0.07833586 -0.09220974 0.1140291\n",
            "448    0.010909688 -0.05651648 0.07833586 -0.09220974 0.1140291\n"
          ]
        }
      ]
    }
  ],
  "metadata": {
    "kernelspec": {
      "display_name": "R",
      "language": "R",
      "name": "ir"
    },
    "language_info": {
      "codemirror_mode": "r",
      "file_extension": ".r",
      "mimetype": "text/x-r-source",
      "name": "R",
      "pygments_lexer": "r",
      "version": "3.6.1"
    },
    "colab": {
      "provenance": []
    }
  },
  "nbformat": 4,
  "nbformat_minor": 5
}