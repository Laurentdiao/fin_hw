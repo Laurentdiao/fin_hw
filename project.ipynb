{
  "nbformat": 4,
  "nbformat_minor": 0,
  "metadata": {
    "colab": {
      "provenance": []
    },
    "kernelspec": {
      "name": "ir",
      "display_name": "R"
    },
    "language_info": {
      "name": "R"
    }
  },
  "cells": [
    {
      "cell_type": "code",
      "execution_count": null,
      "metadata": {
        "colab": {
          "base_uri": "https://localhost:8080/",
          "height": 51
        },
        "id": "FloX7V0aNpiN",
        "outputId": "95a5df11-862b-420d-d9f3-4e65289b2f8f"
      },
      "outputs": [
        {
          "output_type": "display_data",
          "data": {
            "text/html": [
              "'/content'"
            ],
            "text/markdown": "'/content'",
            "text/latex": "'/content'",
            "text/plain": [
              "[1] \"/content\""
            ]
          },
          "metadata": {}
        },
        {
          "output_type": "display_data",
          "data": {
            "text/html": [
              "'/content'"
            ],
            "text/markdown": "'/content'",
            "text/latex": "'/content'",
            "text/plain": [
              "[1] \"/content\""
            ]
          },
          "metadata": {}
        }
      ],
      "source": [
        "getwd()\n",
        "setwd(\"/content\")\n",
        "getwd()"
      ]
    },
    {
      "cell_type": "code",
      "source": [
        "install.packages(\"forecast\", repos = \"https://cran.rstudio.com\")"
      ],
      "metadata": {
        "colab": {
          "base_uri": "https://localhost:8080/"
        },
        "id": "AWhjzvdrnAMx",
        "outputId": "0472d22f-091d-41c2-e877-ef0178a6fddf"
      },
      "execution_count": null,
      "outputs": [
        {
          "output_type": "stream",
          "name": "stderr",
          "text": [
            "Installing package into ‘/usr/local/lib/R/site-library’\n",
            "(as ‘lib’ is unspecified)\n",
            "\n"
          ]
        }
      ]
    },
    {
      "cell_type": "code",
      "source": [
        "install.packages(\"TSA\")"
      ],
      "metadata": {
        "colab": {
          "base_uri": "https://localhost:8080/"
        },
        "id": "mQasl6R1jQKa",
        "outputId": "70fddfb9-66f1-4aba-8eb9-886155124ae0"
      },
      "execution_count": null,
      "outputs": [
        {
          "output_type": "stream",
          "name": "stderr",
          "text": [
            "Installing package into ‘/usr/local/lib/R/site-library’\n",
            "(as ‘lib’ is unspecified)\n",
            "\n"
          ]
        }
      ]
    },
    {
      "cell_type": "code",
      "source": [
        "data = read.csv(\"yield-curve-rates-1990-2023.csv\")\n",
        "data$Date = as.Date(data$Date,format = \"%m/%d/%y\")\n",
        "data = data[order(data$Date),]\n",
        "x = data$Date\n",
        "y = data$X10.Yr\n",
        "valid_indices = !is.na(y)\n",
        "x <-x[valid_indices]\n",
        "y <-y[valid_indices]\n",
        "x = x[-1]\n",
        "y = diff(log(y))\n",
        "cutoff <- x<as.Date(\"2020-01-01\")\n",
        "x = x[cutoff]\n",
        "y = y[cutoff]"
      ],
      "metadata": {
        "id": "IP-NtWcYOE3a",
        "collapsed": true
      },
      "execution_count": null,
      "outputs": []
    },
    {
      "cell_type": "code",
      "source": [
        "png(\"data_show.png\",width = 2400,height = 1800,res=300)\n",
        "plot(x, y, type = \"l\", col = \"blue\", xlab = \"Date\", ylab = \"Log Difference of 10-Year Yield\",\n",
        "    main = \"Log Difference of 10-Year Yield Curve (1990-2020)\")\n",
        "dev.off()"
      ],
      "metadata": {
        "colab": {
          "base_uri": "https://localhost:8080/",
          "height": 34
        },
        "id": "3oZAHJlZpCfQ",
        "outputId": "d4fa1d34-fe03-4028-bf1e-a09c50148531"
      },
      "execution_count": null,
      "outputs": [
        {
          "output_type": "display_data",
          "data": {
            "text/html": [
              "<strong>pdf:</strong> 2"
            ],
            "text/markdown": "**pdf:** 2",
            "text/latex": "\\textbf{pdf:} 2",
            "text/plain": [
              "pdf \n",
              "  2 "
            ]
          },
          "metadata": {}
        }
      ]
    },
    {
      "cell_type": "code",
      "source": [
        "png(\"acf.png\",width = 2400,height = 1800,res=300)\n",
        "acf(y,lag.max = 10)\n",
        "dev.off()"
      ],
      "metadata": {
        "colab": {
          "base_uri": "https://localhost:8080/",
          "height": 34
        },
        "id": "NQynPrAopoE9",
        "outputId": "940c6166-841f-47b7-908d-42f6a0026e89"
      },
      "execution_count": null,
      "outputs": [
        {
          "output_type": "display_data",
          "data": {
            "text/html": [
              "<strong>pdf:</strong> 2"
            ],
            "text/markdown": "**pdf:** 2",
            "text/latex": "\\textbf{pdf:} 2",
            "text/plain": [
              "pdf \n",
              "  2 "
            ]
          },
          "metadata": {}
        }
      ]
    },
    {
      "cell_type": "code",
      "source": [
        "at = y - mean(y)"
      ],
      "metadata": {
        "id": "MdcOU4tjbmRL"
      },
      "execution_count": null,
      "outputs": []
    },
    {
      "cell_type": "code",
      "source": [
        "Box.test(at^2,lag=12,type = \"Ljung\")"
      ],
      "metadata": {
        "colab": {
          "base_uri": "https://localhost:8080/",
          "height": 102
        },
        "id": "YKJaasuhcjFW",
        "outputId": "c5e2cdb8-f2f9-4f0c-a4a6-bda8d7cd0945"
      },
      "execution_count": null,
      "outputs": [
        {
          "output_type": "display_data",
          "data": {
            "text/plain": [
              "\n",
              "\tBox-Ljung test\n",
              "\n",
              "data:  at^2\n",
              "X-squared = 2136.4, df = 12, p-value < 2.2e-16\n"
            ]
          },
          "metadata": {}
        }
      ]
    },
    {
      "cell_type": "code",
      "source": [
        "Box.test(arima(y,order = c(0,0,5))$resid^2,lag = 12,type = \"Ljung\")"
      ],
      "metadata": {
        "colab": {
          "base_uri": "https://localhost:8080/",
          "height": 102
        },
        "id": "n0VIn71wcwfG",
        "outputId": "fd0888b8-d861-494e-eab8-8e8ea76465b4"
      },
      "execution_count": null,
      "outputs": [
        {
          "output_type": "display_data",
          "data": {
            "text/plain": [
              "\n",
              "\tBox-Ljung test\n",
              "\n",
              "data:  arima(y, order = c(0, 0, 5))$resid^2\n",
              "X-squared = 2077.6, df = 12, p-value < 2.2e-16\n"
            ]
          },
          "metadata": {}
        }
      ]
    },
    {
      "cell_type": "code",
      "source": [
        "install.packages(\"fGarch\")\n",
        "library(fGarch)"
      ],
      "metadata": {
        "colab": {
          "base_uri": "https://localhost:8080/"
        },
        "id": "W13xK8GSqfGz",
        "outputId": "b087ca9c-578e-4c26-b0c9-e183b5b20647"
      },
      "execution_count": null,
      "outputs": [
        {
          "output_type": "stream",
          "name": "stderr",
          "text": [
            "Installing package into ‘/usr/local/lib/R/site-library’\n",
            "(as ‘lib’ is unspecified)\n",
            "\n",
            "also installing the dependencies ‘rbibutils’, ‘gss’, ‘stabledist’, ‘gbutils’, ‘Rdpack’, ‘fBasics’, ‘timeSeries’, ‘fastICA’, ‘cvar’\n",
            "\n",
            "\n",
            "NOTE: Packages 'fBasics', 'timeDate', and 'timeSeries' are no longer\n",
            "attached to the search() path when 'fGarch' is attached.\n",
            "\n",
            "If needed attach them yourself in your R script by e.g.,\n",
            "        require(\"timeSeries\")\n",
            "\n"
          ]
        }
      ]
    },
    {
      "cell_type": "code",
      "source": [
        "arima_model <- arima(y, order = c(0, 0, 5))\n",
        "residuals <- residuals(arima_model)"
      ],
      "metadata": {
        "id": "Y_owUKcXvtC4"
      },
      "execution_count": null,
      "outputs": []
    },
    {
      "cell_type": "code",
      "source": [
        "arima_model"
      ],
      "metadata": {
        "colab": {
          "base_uri": "https://localhost:8080/",
          "height": 187
        },
        "id": "pdiuwU5JzmII",
        "outputId": "502a95e3-2a5b-437c-a7dd-1a7fcc537dee"
      },
      "execution_count": null,
      "outputs": [
        {
          "output_type": "display_data",
          "data": {
            "text/plain": [
              "\n",
              "Call:\n",
              "arima(x = y, order = c(0, 0, 5))\n",
              "\n",
              "Coefficients:\n",
              "         ma1      ma2     ma3      ma4      ma5  intercept\n",
              "      0.0022  -0.0163  0.0018  -0.0158  -0.0456     -2e-04\n",
              "s.e.  0.0115   0.0115  0.0115   0.0115   0.0113      2e-04\n",
              "\n",
              "sigma^2 estimated as 0.0002726:  log likelihood = 20146.8,  aic = -40279.61"
            ]
          },
          "metadata": {}
        }
      ]
    },
    {
      "cell_type": "code",
      "source": [
        "install.packages(\"rugarch\")\n",
        "library(rugarch)"
      ],
      "metadata": {
        "colab": {
          "base_uri": "https://localhost:8080/"
        },
        "collapsed": true,
        "id": "TScU0UJxyBc-",
        "outputId": "ed125013-6110-4d6f-c363-fdda4877666e"
      },
      "execution_count": null,
      "outputs": [
        {
          "output_type": "stream",
          "name": "stderr",
          "text": [
            "Installing package into ‘/usr/local/lib/R/site-library’\n",
            "(as ‘lib’ is unspecified)\n",
            "\n",
            "also installing the dependencies ‘truncnorm’, ‘FNN’, ‘kernlab’, ‘mclust’, ‘multicool’, ‘mvtnorm’, ‘pracma’, ‘DistributionUtils’, ‘GeneralizedHyperbolic’, ‘Rsolnp’, ‘ks’, ‘numDeriv’, ‘spd’, ‘chron’, ‘SkewHyperbolic’, ‘nloptr’\n",
            "\n",
            "\n",
            "Loading required package: parallel\n",
            "\n",
            "\n",
            "Attaching package: ‘rugarch’\n",
            "\n",
            "\n",
            "The following object is masked from ‘package:stats’:\n",
            "\n",
            "    sigma\n",
            "\n",
            "\n"
          ]
        }
      ]
    },
    {
      "cell_type": "code",
      "source": [
        "spec <- ugarchspec(variance.model = list(model = \"sGARCH\", garchOrder = c(1, 1)),\n",
        "                   mean.model = list(armaOrder = c(0, 0), include.mean = FALSE))\n",
        "fit <- ugarchfit(spec, residuals)"
      ],
      "metadata": {
        "id": "2HSEfsv6x5N8"
      },
      "execution_count": null,
      "outputs": []
    },
    {
      "cell_type": "code",
      "source": [
        "fit"
      ],
      "metadata": {
        "colab": {
          "base_uri": "https://localhost:8080/",
          "height": 1000
        },
        "collapsed": true,
        "id": "sK2BXflMzK4r",
        "outputId": "ee791069-6610-471e-a60d-77df257defd2"
      },
      "execution_count": null,
      "outputs": [
        {
          "output_type": "display_data",
          "data": {
            "text/plain": [
              "\n",
              "*---------------------------------*\n",
              "*          GARCH Model Fit        *\n",
              "*---------------------------------*\n",
              "\n",
              "Conditional Variance Dynamics \t\n",
              "-----------------------------------\n",
              "GARCH Model\t: sGARCH(1,1)\n",
              "Mean Model\t: ARFIMA(0,0,0)\n",
              "Distribution\t: norm \n",
              "\n",
              "Optimal Parameters\n",
              "------------------------------------\n",
              "        Estimate  Std. Error  t value Pr(>|t|)\n",
              "omega   0.000001    0.000000   1.3354  0.18176\n",
              "alpha1  0.044881    0.002267  19.7992  0.00000\n",
              "beta1   0.954053    0.002088 456.9692  0.00000\n",
              "\n",
              "Robust Standard Errors:\n",
              "        Estimate  Std. Error   t value Pr(>|t|)\n",
              "omega   0.000001    0.000002   0.21399  0.83055\n",
              "alpha1  0.044881    0.008212   5.46505  0.00000\n",
              "beta1   0.954053    0.008330 114.53262  0.00000\n",
              "\n",
              "LogLikelihood : 21685.21 \n",
              "\n",
              "Information Criteria\n",
              "------------------------------------\n",
              "                    \n",
              "Akaike       -5.7788\n",
              "Bayes        -5.7761\n",
              "Shibata      -5.7788\n",
              "Hannan-Quinn -5.7779\n",
              "\n",
              "Weighted Ljung-Box Test on Standardized Residuals\n",
              "------------------------------------\n",
              "                        statistic p-value\n",
              "Lag[1]                      5.373 0.02046\n",
              "Lag[2*(p+q)+(p+q)-1][2]     5.997 0.02204\n",
              "Lag[4*(p+q)+(p+q)-1][5]     8.492 0.02222\n",
              "d.o.f=0\n",
              "H0 : No serial correlation\n",
              "\n",
              "Weighted Ljung-Box Test on Standardized Squared Residuals\n",
              "------------------------------------\n",
              "                        statistic p-value\n",
              "Lag[1]                     0.8471  0.3574\n",
              "Lag[2*(p+q)+(p+q)-1][5]    2.1441  0.5848\n",
              "Lag[4*(p+q)+(p+q)-1][9]    3.7764  0.6269\n",
              "d.o.f=2\n",
              "\n",
              "Weighted ARCH LM Tests\n",
              "------------------------------------\n",
              "            Statistic Shape Scale P-Value\n",
              "ARCH Lag[3]     1.485 0.500 2.000  0.2230\n",
              "ARCH Lag[5]     2.641 1.440 1.667  0.3463\n",
              "ARCH Lag[7]     3.292 2.315 1.543  0.4602\n",
              "\n",
              "Nyblom stability test\n",
              "------------------------------------\n",
              "Joint Statistic:  959.9212\n",
              "Individual Statistics:               \n",
              "omega  257.4690\n",
              "alpha1   0.5754\n",
              "beta1    0.6031\n",
              "\n",
              "Asymptotic Critical Values (10% 5% 1%)\n",
              "Joint Statistic:     \t 0.846 1.01 1.35\n",
              "Individual Statistic:\t 0.35 0.47 0.75\n",
              "\n",
              "Sign Bias Test\n",
              "------------------------------------\n",
              "                   t-value   prob sig\n",
              "Sign Bias          0.08497 0.9323    \n",
              "Negative Sign Bias 0.65359 0.5134    \n",
              "Positive Sign Bias 0.70541 0.4806    \n",
              "Joint Effect       0.94785 0.8139    \n",
              "\n",
              "\n",
              "Adjusted Pearson Goodness-of-Fit Test:\n",
              "------------------------------------\n",
              "  group statistic p-value(g-1)\n",
              "1    20     81.79    9.106e-10\n",
              "2    30    157.71    1.194e-19\n",
              "3    40    222.14    1.745e-27\n",
              "4    50    262.15    6.621e-31\n",
              "\n",
              "\n",
              "Elapsed time : 0.62676 \n"
            ]
          },
          "metadata": {}
        }
      ]
    },
    {
      "cell_type": "code",
      "source": [
        "arimagarch=garchFit(y~arma(0,5)+garch(1,1),data=y,trace=F)"
      ],
      "metadata": {
        "id": "ETV76b_nqPqP"
      },
      "execution_count": null,
      "outputs": []
    },
    {
      "cell_type": "code",
      "source": [
        "options(digits = 20)\n",
        "arimagarch"
      ],
      "metadata": {
        "colab": {
          "base_uri": "https://localhost:8080/",
          "height": 816
        },
        "collapsed": true,
        "id": "ionCLE4urM0S",
        "outputId": "a8038841-4fcf-4c34-e822-3954269161cf"
      },
      "execution_count": null,
      "outputs": [
        {
          "output_type": "display_data",
          "data": {
            "text/plain": [
              "\n",
              "Title:\n",
              " GARCH Modelling \n",
              "\n",
              "Call:\n",
              " garchFit(formula = y ~ arma(0, 5) + garch(1, 1), data = y, trace = F) \n",
              "\n",
              "Mean and Variance Equation:\n",
              " data ~ arma(0, 5) + garch(1, 1)\n",
              "<environment: 0x56eb86a9c198>\n",
              " [data = y]\n",
              "\n",
              "Conditional Distribution:\n",
              " norm \n",
              "\n",
              "Coefficient(s):\n",
              "                    mu                     ma1                     ma2  \n",
              "-2.347209508103570e-04   2.624279507404471e-02  -8.186933892960994e-03  \n",
              "                   ma3                     ma4                     ma5  \n",
              "-2.150536591782613e-02  -1.416939805829436e-02  -2.907104828659552e-02  \n",
              "                 omega                  alpha1                   beta1  \n",
              " 5.119364456357116e-07   4.523359133329109e-02   9.537269081626907e-01  \n",
              "\n",
              "Std. Errors:\n",
              " based on Hessian \n",
              "\n",
              "Error Analysis:\n",
              "                    Estimate            Std. Error   t value   Pr(>|t|)    \n",
              "mu     -2.34720950810357e-04  1.22808218728442e-04  -1.91128   0.055969 .  \n",
              "ma1     2.62427950740447e-02  1.19853093227009e-02   2.18958   0.028555 *  \n",
              "ma2    -8.18693389296099e-03  1.19377325791092e-02  -0.68580   0.492837    \n",
              "ma3    -2.15053659178261e-02  1.19636096304116e-02  -1.79756   0.072246 .  \n",
              "ma4    -1.41693980582944e-02  1.19887838431020e-02  -1.18189   0.237250    \n",
              "ma5    -2.90710482865955e-02  1.17322599841237e-02  -2.47787   0.013217 *  \n",
              "omega   5.11936445635712e-07  1.18615441944617e-07   4.31593 1.5893e-05 ***\n",
              "alpha1  4.52335913332911e-02  3.48082421324917e-03  12.99508 < 2.22e-16 ***\n",
              "beta1   9.53726908162691e-01  3.36958850271685e-03 283.03958 < 2.22e-16 ***\n",
              "---\n",
              "Signif. codes:  \n",
              "  0 ‘***’ 0.0010000000000000000208 ‘**’ 0.010000000000000000208 ‘*’\n",
              "  0.050000000000000002776 ‘.’ 0.10000000000000000555 ‘ ’ 1\n",
              "\n",
              "Log Likelihood:\n",
              " 21690.869309552330378    normalized:  2.8905742683305342133 \n",
              "\n",
              "Description:\n",
              " Thu Nov 28 12:09:00 2024 by user:  \n"
            ]
          },
          "metadata": {}
        }
      ]
    },
    {
      "cell_type": "code",
      "source": [
        "arimagarch01=garchFit(y~arma(0,1)+garch(1,1),data=y,trace=F)\n",
        "options(digits = 10)\n",
        "arimagarch01"
      ],
      "metadata": {
        "colab": {
          "base_uri": "https://localhost:8080/",
          "height": 646
        },
        "collapsed": true,
        "id": "acEo270jWzTd",
        "outputId": "ea9460ca-39b4-4f53-9226-82c223b52ce7"
      },
      "execution_count": null,
      "outputs": [
        {
          "output_type": "display_data",
          "data": {
            "text/plain": [
              "\n",
              "Title:\n",
              " GARCH Modelling \n",
              "\n",
              "Call:\n",
              " garchFit(formula = y ~ arma(0, 1) + garch(1, 1), data = y, trace = F) \n",
              "\n",
              "Mean and Variance Equation:\n",
              " data ~ arma(0, 1) + garch(1, 1)\n",
              "<environment: 0x56eb893c7ea0>\n",
              " [data = y]\n",
              "\n",
              "Conditional Distribution:\n",
              " norm \n",
              "\n",
              "Coefficient(s):\n",
              "          mu           ma1         omega        alpha1         beta1  \n",
              "-2.39492e-04   2.78968e-02   5.11739e-07   4.52722e-02   9.53696e-01  \n",
              "\n",
              "Std. Errors:\n",
              " based on Hessian \n",
              "\n",
              "Error Analysis:\n",
              "          Estimate  Std. Error  t value  Pr(>|t|)    \n",
              "mu     -2.3949e-04  1.3206e-04  -1.8135   0.06975 .  \n",
              "ma1     2.7897e-02  1.2064e-02   2.3124   0.02075 *  \n",
              "omega   5.1174e-07  1.1901e-07   4.2999 1.709e-05 ***\n",
              "alpha1  4.5272e-02  3.4823e-03  13.0006 < 2.2e-16 ***\n",
              "beta1   9.5370e-01  3.3706e-03 282.9490 < 2.2e-16 ***\n",
              "---\n",
              "Signif. codes:  0 ‘***’ 0.001 ‘**’ 0.01 ‘*’ 0.05 ‘.’ 0.1 ‘ ’ 1\n",
              "\n",
              "Log Likelihood:\n",
              " 21685.29578    normalized:  2.889831528 \n",
              "\n",
              "Description:\n",
              " Thu Nov 28 15:49:57 2024 by user:  \n"
            ]
          },
          "metadata": {}
        }
      ]
    },
    {
      "cell_type": "code",
      "source": [
        "residuals <- residuals(arimagarch01)\n",
        "head(residuals)\n",
        "sigma_t <- arimagarch01@sigma.t\n",
        "head(sigma_t)\n",
        "stdresi <- residuals / sigma_t\n",
        "head(stdresi)"
      ],
      "metadata": {
        "colab": {
          "base_uri": "https://localhost:8080/",
          "height": 85
        },
        "id": "ZOxBT8DJg3qk",
        "outputId": "736426ec-f7d1-4486-93f2-8039f46f57e8"
      },
      "execution_count": null,
      "outputs": [
        {
          "output_type": "display_data",
          "data": {
            "text/html": [
              "<style>\n",
              ".list-inline {list-style: none; margin:0; padding: 0}\n",
              ".list-inline>li {display: inline-block}\n",
              ".list-inline>li:not(:last-child)::after {content: \"\\00b7\"; padding: 0 .5ex}\n",
              "</style>\n",
              "<ol class=list-inline><li>0</li><li>-0.00101285665556301</li><li>0.00152009543269808</li><li>0.00394474796920859</li><li>0.000129445832189721</li><li>0.0014819866171981</li></ol>\n"
            ],
            "text/markdown": "1. 0\n2. -0.00101285665556301\n3. 0.00152009543269808\n4. 0.00394474796920859\n5. 0.000129445832189721\n6. 0.0014819866171981\n\n\n",
            "text/latex": "\\begin{enumerate*}\n\\item 0\n\\item -0.00101285665556301\n\\item 0.00152009543269808\n\\item 0.00394474796920859\n\\item 0.000129445832189721\n\\item 0.0014819866171981\n\\end{enumerate*}\n",
            "text/plain": [
              "[1]  0.0000000000000 -0.0010128566556  0.0015200954327  0.0039447479692\n",
              "[5]  0.0001294458322  0.0014819866172"
            ]
          },
          "metadata": {}
        },
        {
          "output_type": "display_data",
          "data": {
            "text/html": [
              "<style>\n",
              ".list-inline {list-style: none; margin:0; padding: 0}\n",
              ".list-inline>li {display: inline-block}\n",
              ".list-inline>li:not(:last-child)::after {content: \"\\00b7\"; padding: 0 .5ex}\n",
              "</style>\n",
              "<ol class=list-inline><li>0.0165450961359417</li><li>0.0161733333318889</li><li>0.0158121117135876</li><li>0.0154616362745789</li><li>0.0151396469732176</li><li>0.0148023020469954</li></ol>\n"
            ],
            "text/markdown": "1. 0.0165450961359417\n2. 0.0161733333318889\n3. 0.0158121117135876\n4. 0.0154616362745789\n5. 0.0151396469732176\n6. 0.0148023020469954\n\n\n",
            "text/latex": "\\begin{enumerate*}\n\\item 0.0165450961359417\n\\item 0.0161733333318889\n\\item 0.0158121117135876\n\\item 0.0154616362745789\n\\item 0.0151396469732176\n\\item 0.0148023020469954\n\\end{enumerate*}\n",
            "text/plain": [
              "[1] 0.01654509614 0.01617333333 0.01581211171 0.01546163627 0.01513964697\n",
              "[6] 0.01480230205"
            ]
          },
          "metadata": {}
        },
        {
          "output_type": "display_data",
          "data": {
            "text/html": [
              "<style>\n",
              ".list-inline {list-style: none; margin:0; padding: 0}\n",
              ".list-inline>li {display: inline-block}\n",
              ".list-inline>li:not(:last-child)::after {content: \"\\00b7\"; padding: 0 .5ex}\n",
              "</style>\n",
              "<ol class=list-inline><li>0</li><li>-0.0626251023693406</li><li>0.0961348781384992</li><li>0.255131339216296</li><li>0.00855012223328017</li><li>0.100118658063657</li></ol>\n"
            ],
            "text/markdown": "1. 0\n2. -0.0626251023693406\n3. 0.0961348781384992\n4. 0.255131339216296\n5. 0.00855012223328017\n6. 0.100118658063657\n\n\n",
            "text/latex": "\\begin{enumerate*}\n\\item 0\n\\item -0.0626251023693406\n\\item 0.0961348781384992\n\\item 0.255131339216296\n\\item 0.00855012223328017\n\\item 0.100118658063657\n\\end{enumerate*}\n",
            "text/plain": [
              "[1]  0.000000000000 -0.062625102369  0.096134878138  0.255131339216\n",
              "[5]  0.008550122233  0.100118658064"
            ]
          },
          "metadata": {}
        }
      ]
    },
    {
      "cell_type": "code",
      "source": [
        "png(\"sigma_t.png\",width = 2400,height = 1800,res=300)\n",
        "plot(x, sigma_t,xlab = \"Date\",type = 'l')\n",
        "dev.off()"
      ],
      "metadata": {
        "colab": {
          "base_uri": "https://localhost:8080/",
          "height": 34
        },
        "id": "IBQyT7LLhr03",
        "outputId": "e7639db0-e6b8-472b-99c0-c4763c247e1a"
      },
      "execution_count": null,
      "outputs": [
        {
          "output_type": "display_data",
          "data": {
            "text/html": [
              "<strong>pdf:</strong> 2"
            ],
            "text/markdown": "**pdf:** 2",
            "text/latex": "\\textbf{pdf:} 2",
            "text/plain": [
              "pdf \n",
              "  2 "
            ]
          },
          "metadata": {}
        }
      ]
    },
    {
      "cell_type": "code",
      "source": [
        "png(\"garch_resi.png\",width = 2400,height = 1800,res=300)\n",
        "plot(x,stdresi,xlab = 'Date',type = 'l')\n",
        "dev.off()"
      ],
      "metadata": {
        "colab": {
          "base_uri": "https://localhost:8080/",
          "height": 34
        },
        "id": "vyU-WRC6h4q-",
        "outputId": "787a589c-150a-4b80-b32a-e86f8d8b0914"
      },
      "execution_count": null,
      "outputs": [
        {
          "output_type": "display_data",
          "data": {
            "text/html": [
              "<strong>pdf:</strong> 2"
            ],
            "text/markdown": "**pdf:** 2",
            "text/latex": "\\textbf{pdf:} 2",
            "text/plain": [
              "pdf \n",
              "  2 "
            ]
          },
          "metadata": {}
        }
      ]
    },
    {
      "cell_type": "code",
      "source": [
        "png(\"garch_acf_res.png\",width = 2400,height = 1800,res=300)\n",
        "acf(stdresi, lag.max = 12,xlim = c(1, 12),ylim = c(-0.03,0.03))\n",
        "dev.off()\n",
        "\n",
        "Box.test(stdresi, lag = 12, type = \"Ljung-Box\")\n",
        "\n",
        "png(\"garch_acf_res^2.png\",width = 2400,height = 1800,res=300)\n",
        "acf(stdresi^2, lag.max = 12,xlim = c(1, 12),ylim = c(-0.03,0.03))\n",
        "dev.off()\n",
        "\n",
        "Box.test(stdresi^2, lag = 12, type = \"Ljung-Box\")\n"
      ],
      "metadata": {
        "colab": {
          "base_uri": "https://localhost:8080/",
          "height": 221
        },
        "id": "NRybSxGTe8Qq",
        "outputId": "dfef5e6d-320c-48ce-efad-d94b8602785b"
      },
      "execution_count": null,
      "outputs": [
        {
          "output_type": "display_data",
          "data": {
            "text/html": [
              "<strong>pdf:</strong> 2"
            ],
            "text/markdown": "**pdf:** 2",
            "text/latex": "\\textbf{pdf:} 2",
            "text/plain": [
              "pdf \n",
              "  2 "
            ]
          },
          "metadata": {}
        },
        {
          "output_type": "display_data",
          "data": {
            "text/plain": [
              "\n",
              "\tBox-Ljung test\n",
              "\n",
              "data:  stdresi\n",
              "X-squared = 12.641018, df = 12, p-value = 0.3956637\n"
            ]
          },
          "metadata": {}
        },
        {
          "output_type": "display_data",
          "data": {
            "text/html": [
              "<strong>pdf:</strong> 2"
            ],
            "text/markdown": "**pdf:** 2",
            "text/latex": "\\textbf{pdf:} 2",
            "text/plain": [
              "pdf \n",
              "  2 "
            ]
          },
          "metadata": {}
        },
        {
          "output_type": "display_data",
          "data": {
            "text/plain": [
              "\n",
              "\tBox-Ljung test\n",
              "\n",
              "data:  stdresi^2\n",
              "X-squared = 12.434655, df = 12, p-value = 0.4114329\n"
            ]
          },
          "metadata": {}
        }
      ]
    },
    {
      "cell_type": "code",
      "source": [
        "forecast <- predict(arimagarch01, n.ahead = 5)\n",
        "\n",
        "forecast"
      ],
      "metadata": {
        "colab": {
          "base_uri": "https://localhost:8080/",
          "height": 252
        },
        "id": "1PT-xXt707e3",
        "outputId": "3b7d634f-dab6-4710-edbd-d731475a2701"
      },
      "execution_count": null,
      "outputs": [
        {
          "output_type": "display_data",
          "data": {
            "text/html": [
              "<table class=\"dataframe\">\n",
              "<caption>A data.frame: 5 × 3</caption>\n",
              "<thead>\n",
              "\t<tr><th scope=col>meanForecast</th><th scope=col>meanError</th><th scope=col>standardDeviation</th></tr>\n",
              "\t<tr><th scope=col>&lt;dbl&gt;</th><th scope=col>&lt;dbl&gt;</th><th scope=col>&lt;dbl&gt;</th></tr>\n",
              "</thead>\n",
              "<tbody>\n",
              "\t<tr><td> 5.065844776e-05</td><td>0.02475427492</td><td>0.02475427492</td></tr>\n",
              "\t<tr><td>-2.394916609e-04</td><td>0.02476147356</td><td>0.02475184222</td></tr>\n",
              "\t<tr><td>-2.394916609e-04</td><td>0.02475904219</td><td>0.02474941179</td></tr>\n",
              "\t<tr><td>-2.394916609e-04</td><td>0.02475661308</td><td>0.02474698362</td></tr>\n",
              "\t<tr><td>-2.394916609e-04</td><td>0.02475418624</td><td>0.02474455773</td></tr>\n",
              "</tbody>\n",
              "</table>\n"
            ],
            "text/markdown": "\nA data.frame: 5 × 3\n\n| meanForecast &lt;dbl&gt; | meanError &lt;dbl&gt; | standardDeviation &lt;dbl&gt; |\n|---|---|---|\n|  5.065844776e-05 | 0.02475427492 | 0.02475427492 |\n| -2.394916609e-04 | 0.02476147356 | 0.02475184222 |\n| -2.394916609e-04 | 0.02475904219 | 0.02474941179 |\n| -2.394916609e-04 | 0.02475661308 | 0.02474698362 |\n| -2.394916609e-04 | 0.02475418624 | 0.02474455773 |\n\n",
            "text/latex": "A data.frame: 5 × 3\n\\begin{tabular}{lll}\n meanForecast & meanError & standardDeviation\\\\\n <dbl> & <dbl> & <dbl>\\\\\n\\hline\n\t  5.065844776e-05 & 0.02475427492 & 0.02475427492\\\\\n\t -2.394916609e-04 & 0.02476147356 & 0.02475184222\\\\\n\t -2.394916609e-04 & 0.02475904219 & 0.02474941179\\\\\n\t -2.394916609e-04 & 0.02475661308 & 0.02474698362\\\\\n\t -2.394916609e-04 & 0.02475418624 & 0.02474455773\\\\\n\\end{tabular}\n",
            "text/plain": [
              "  meanForecast     meanError     standardDeviation\n",
              "1  5.065844776e-05 0.02475427492 0.02475427492    \n",
              "2 -2.394916609e-04 0.02476147356 0.02475184222    \n",
              "3 -2.394916609e-04 0.02475904219 0.02474941179    \n",
              "4 -2.394916609e-04 0.02475661308 0.02474698362    \n",
              "5 -2.394916609e-04 0.02475418624 0.02474455773    "
            ]
          },
          "metadata": {}
        }
      ]
    },
    {
      "cell_type": "code",
      "source": [
        "arimagarch01 <- garchFit(y ~ arma(0, 1) + garch(1, 1), data = y, trace = FALSE)\n",
        "forecast_5 <- predict(arimagarch01, n.ahead = 5)\n",
        "predicted_mean_5 <- forecast_5$meanForecast\n",
        "predicted_volatility_5 <- forecast_5$standardDeviation\n",
        "\n",
        "forecast_df <- data.frame(\n",
        "  Horizon = 1:5,\n",
        "  Return = predicted_mean_5,\n",
        "  Volatility = predicted_volatility_5\n",
        ")\n",
        "\n",
        "print(forecast_df)"
      ],
      "metadata": {
        "colab": {
          "base_uri": "https://localhost:8080/"
        },
        "id": "L9WyBbhF1a2f",
        "outputId": "1e7b9279-d000-4cdf-b9e4-955f8eb52543"
      },
      "execution_count": null,
      "outputs": [
        {
          "output_type": "stream",
          "name": "stdout",
          "text": [
            "  Horizon           Return    Volatility\n",
            "1       1  5.065844776e-05 0.02475427492\n",
            "2       2 -2.394916609e-04 0.02475184222\n",
            "3       3 -2.394916609e-04 0.02474941179\n",
            "4       4 -2.394916609e-04 0.02474698362\n",
            "5       5 -2.394916609e-04 0.02474455773\n"
          ]
        }
      ]
    },
    {
      "cell_type": "code",
      "source": [
        "arimagarchstd <- garchFit(y ~ arma(0, 0) + garch(1, 1), data = y, trace = FALSE, cond.dist = \"std\")"
      ],
      "metadata": {
        "id": "AhP6Etfd6Lgt"
      },
      "execution_count": null,
      "outputs": []
    },
    {
      "cell_type": "code",
      "source": [
        "arimagarchstd"
      ],
      "metadata": {
        "colab": {
          "base_uri": "https://localhost:8080/",
          "height": 663
        },
        "id": "XeCWz6Vb-OzX",
        "outputId": "86112f9b-f8b6-4cc1-b97f-d904ae8d7a03"
      },
      "execution_count": null,
      "outputs": [
        {
          "output_type": "display_data",
          "data": {
            "text/plain": [
              "\n",
              "Title:\n",
              " GARCH Modelling \n",
              "\n",
              "Call:\n",
              " garchFit(formula = y ~ arma(0, 0) + garch(1, 1), data = y, shape = 5, \n",
              "    cond.dist = \"std\", trace = FALSE) \n",
              "\n",
              "Mean and Variance Equation:\n",
              " data ~ arma(0, 0) + garch(1, 1)\n",
              "<environment: 0x56eb89d543a8>\n",
              " [data = y]\n",
              "\n",
              "Conditional Distribution:\n",
              " std \n",
              "\n",
              "Coefficient(s):\n",
              "          mu         omega        alpha1         beta1         shape  \n",
              "-3.00384e-04   3.52368e-07   4.63720e-02   9.53984e-01   7.95188e+00  \n",
              "\n",
              "Std. Errors:\n",
              " based on Hessian \n",
              "\n",
              "Error Analysis:\n",
              "          Estimate  Std. Error  t value  Pr(>|t|)    \n",
              "mu     -3.0038e-04  1.2244e-04  -2.4532  0.014158 *  \n",
              "omega   3.5237e-07  1.3339e-07   2.6417  0.008249 ** \n",
              "alpha1  4.6372e-02  4.0590e-03  11.4246 < 2.2e-16 ***\n",
              "beta1   9.5398e-01  3.8055e-03 250.6843 < 2.2e-16 ***\n",
              "shape   7.9519e+00  6.7144e-01  11.8430 < 2.2e-16 ***\n",
              "---\n",
              "Signif. codes:  0 ‘***’ 0.001 ‘**’ 0.01 ‘*’ 0.05 ‘.’ 0.1 ‘ ’ 1\n",
              "\n",
              "Log Likelihood:\n",
              " 21796.85269    normalized:  2.904697853 \n",
              "\n",
              "Description:\n",
              " Thu Nov 28 18:16:53 2024 by user:  \n"
            ]
          },
          "metadata": {}
        }
      ]
    },
    {
      "cell_type": "code",
      "source": [
        "residuals <- residuals(arimagarchstd)\n",
        "head(residuals)\n",
        "sigma_t <- arimagarchstd@sigma.t\n",
        "head(sigma_t)\n",
        "\n",
        "stdresi <- residuals / sigma_t\n",
        "head(stdresi)"
      ],
      "metadata": {
        "colab": {
          "base_uri": "https://localhost:8080/",
          "height": 119
        },
        "id": "Xb-5-blCAtL6",
        "outputId": "1aa0c6da-a892-414c-e1d1-ea80ae0743c3"
      },
      "execution_count": null,
      "outputs": [
        {
          "output_type": "display_data",
          "data": {
            "text/html": [
              "<style>\n",
              ".list-inline {list-style: none; margin:0; padding: 0}\n",
              ".list-inline>li {display: inline-block}\n",
              ".list-inline>li:not(:last-child)::after {content: \"\\00b7\"; padding: 0 .5ex}\n",
              "</style>\n",
              "<ol class=list-inline><li>0.00657786857796329</li><li>-0.000951964257641535</li><li>0.00155273237529031</li><li>0.00404804615906408</li><li>0.000300384058824388</li><li>0.00154649013907172</li></ol>\n"
            ],
            "text/markdown": "1. 0.00657786857796329\n2. -0.000951964257641535\n3. 0.00155273237529031\n4. 0.00404804615906408\n5. 0.000300384058824388\n6. 0.00154649013907172\n\n\n",
            "text/latex": "\\begin{enumerate*}\n\\item 0.00657786857796329\n\\item -0.000951964257641535\n\\item 0.00155273237529031\n\\item 0.00404804615906408\n\\item 0.000300384058824388\n\\item 0.00154649013907172\n\\end{enumerate*}\n",
            "text/plain": [
              "[1]  0.0065778685780 -0.0009519642576  0.0015527323753  0.0040480461591\n",
              "[5]  0.0003003840588  0.0015464901391"
            ]
          },
          "metadata": {}
        },
        {
          "output_type": "display_data",
          "data": {
            "text/html": [
              "<style>\n",
              ".list-inline {list-style: none; margin:0; padding: 0}\n",
              ".list-inline>li {display: inline-block}\n",
              ".list-inline>li:not(:last-child)::after {content: \"\\00b7\"; padding: 0 .5ex}\n",
              "</style>\n",
              "<ol class=list-inline><li>0.0165471750165127</li><li>0.0162347879677819</li><li>0.0158692940350213</li><li>0.015514843317426</li><li>0.0151903323563834</li><li>0.0148487318889529</li></ol>\n"
            ],
            "text/markdown": "1. 0.0165471750165127\n2. 0.0162347879677819\n3. 0.0158692940350213\n4. 0.015514843317426\n5. 0.0151903323563834\n6. 0.0148487318889529\n\n\n",
            "text/latex": "\\begin{enumerate*}\n\\item 0.0165471750165127\n\\item 0.0162347879677819\n\\item 0.0158692940350213\n\\item 0.015514843317426\n\\item 0.0151903323563834\n\\item 0.0148487318889529\n\\end{enumerate*}\n",
            "text/plain": [
              "[1] 0.01654717502 0.01623478797 0.01586929404 0.01551484332 0.01519033236\n",
              "[6] 0.01484873189"
            ]
          },
          "metadata": {}
        },
        {
          "output_type": "display_data",
          "data": {
            "text/html": [
              "<style>\n",
              ".list-inline {list-style: none; margin:0; padding: 0}\n",
              ".list-inline>li {display: inline-block}\n",
              ".list-inline>li:not(:last-child)::after {content: \"\\00b7\"; padding: 0 .5ex}\n",
              "</style>\n",
              "<ol class=list-inline><li>0.397522149333595</li><li>-0.0586373077080352</li><li>0.0978450819465345</li><li>0.260914407979705</li><li>0.019774686410871</li><li>0.1041496439317</li></ol>\n"
            ],
            "text/markdown": "1. 0.397522149333595\n2. -0.0586373077080352\n3. 0.0978450819465345\n4. 0.260914407979705\n5. 0.019774686410871\n6. 0.1041496439317\n\n\n",
            "text/latex": "\\begin{enumerate*}\n\\item 0.397522149333595\n\\item -0.0586373077080352\n\\item 0.0978450819465345\n\\item 0.260914407979705\n\\item 0.019774686410871\n\\item 0.1041496439317\n\\end{enumerate*}\n",
            "text/plain": [
              "[1]  0.39752214933 -0.05863730771  0.09784508195  0.26091440798  0.01977468641\n",
              "[6]  0.10414964393"
            ]
          },
          "metadata": {}
        }
      ]
    },
    {
      "cell_type": "code",
      "source": [
        "acf(stdresi, lag.max = 12,xlim = c(1, 12),ylim = c(-0.03,0.03))\n",
        "\n",
        "Box.test(stdresi, lag = 12, type = \"Ljung-Box\")\n",
        "\n",
        "acf(stdresi^2, lag.max = 12,xlim = c(1, 12),ylim = c(-0.03,0.03))\n",
        "\n",
        "Box.test(stdresi^2, lag = 12, type = \"Ljung-Box\")"
      ],
      "metadata": {
        "colab": {
          "base_uri": "https://localhost:8080/",
          "height": 1000
        },
        "id": "_9f7zeGpA5Vj",
        "outputId": "f1be1198-3837-4f42-88b9-b17c8aaf493f"
      },
      "execution_count": null,
      "outputs": [
        {
          "output_type": "display_data",
          "data": {
            "text/plain": [
              "\n",
              "\tBox-Ljung test\n",
              "\n",
              "data:  stdresi\n",
              "X-squared = 19.843306, df = 12, p-value = 0.07010875\n"
            ]
          },
          "metadata": {}
        },
        {
          "output_type": "display_data",
          "data": {
            "text/plain": [
              "Plot with title “Series  stdresi”"
            ],
            "image/png": "[encoded data removed]"
          },
          "metadata": {
            "image/png": {
              "width": 420,
              "height": 420
            }
          }
        },
        {
          "output_type": "display_data",
          "data": {
            "text/plain": [
              "\n",
              "\tBox-Ljung test\n",
              "\n",
              "data:  stdresi^2\n",
              "X-squared = 12.235843, df = 12, p-value = 0.4269296\n"
            ]
          },
          "metadata": {}
        },
        {
          "output_type": "display_data",
          "data": {
            "text/plain": [
              "Plot with title “Series  stdresi^2”"
            ],
            "image/png": "[encoded data removed]"
          },
          "metadata": {
            "image/png": {
              "width": 420,
              "height": 420
            }
          }
        }
      ]
    }
  ]
}